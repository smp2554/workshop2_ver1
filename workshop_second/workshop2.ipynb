{
 "cells": [
  {
   "cell_type": "code",
   "execution_count": 43,
   "metadata": {},
   "outputs": [
    {
     "name": "stdout",
     "output_type": "stream",
     "text": [
      "\n",
      "\n",
      "\t\t\t\tcase_338_Big Simple Daisy\n",
      "\n"
     ]
    }
   ],
   "source": [
    "import json\n",
    "import re\n",
    "import requests\n",
    "import random\n",
    "from bs4 import BeautifulSoup\n",
    "from datetime import date, timedelta\n",
    "\n",
    "import requests\n",
    "from flask import Flask, render_template, request\n",
    "\n",
    "res = requests.get(\"https://wusinsa.musinsa.com/app/contents/bestranking?u_cat_cd=012\")\n",
    "soup= BeautifulSoup(res.content, 'html.parser')\n",
    "product=[]\n",
    "\n",
    "for tag in soup.select(\".prd_block\"):\n",
    "        text = tag.select(\".info\")[0].get_text()\n",
    "        \n",
    "print(text)"
   ]
  },
  {
   "cell_type": "code",
   "execution_count": 129,
   "metadata": {},
   "outputs": [
    {
     "name": "stdout",
     "output_type": "stream",
     "text": [
      "[{'제목': '1917', '평점': '7.3', '관객수': '25647', '개봉일': '2020.02.19'}, {'제목': '라라랜드', '평점': '8.0', '관객수': '22914', '개봉일': '2016.12.07'}, {'제목': '서치 아웃', '평점': '5.9', '관객수': '20627', '개봉일': '2020.04.15'}, {'제목': '건즈 아킴보', '평점': '5.7', '관객수': '18992', '개봉일': '2020.04.15'}, {'제목': '오픈 더 도어 ', '평점': '6.3', '관객수': '12070', '개봉일': '2020.04.08'}, {'제목': '엽문4: 더 파이널', '평점': '6.3', '관객수': '11879', '개봉일': '2020.04.01'}, {'제목': '비밀정보원: 인 더 프리즌 ', '평점': '7.3', '관객수': '10666', '개봉일': '2020.04.15'}, {'제목': '유령선', '평점': '9.0', '관객수': '8160', '개봉일': '2020.04.15'}, {'제목': '주디', '평점': '8.2', '관객수': '6013', '개봉일': '2020.03.25'}, {'제목': '라라걸', '평점': '9.6', '관객수': '5898', '개봉일': '2020.04.15'}]\n"
     ]
    }
   ],
   "source": [
    "res = requests.get(\"https://movie.daum.net/boxoffice/weekly\")\n",
    "soup = BeautifulSoup(res.content, 'html.parser')\n",
    "movies=[]\n",
    "for tag in soup.select(\".desc_boxthumb\"):\n",
    "        text =  tag.select(\".list_state\")[0].get_text()\n",
    "        regex = re.compile(\"주간관객 (\\d+)명\\n개봉일\\n([0-9.]+) 개봉\")\n",
    "        관객수, 개봉일 = re.findall(regex, text)[0]\n",
    "        movies.append({'제목': tag.select(\".link_g\")[0].get_text(),\n",
    "             '평점': tag.select(\".emph_grade\")[0].get_text(),\n",
    "             '관객수': 관객수,\n",
    "             '개봉일': 개봉일})\n",
    "print(movies)"
   ]
  },
  {
   "cell_type": "code",
   "execution_count": 104,
   "metadata": {},
   "outputs": [
    {
     "data": {
      "text/plain": [
       "['2020-10-11', '2020-12-11']"
      ]
     },
     "execution_count": 104,
     "metadata": {},
     "output_type": "execute_result"
    }
   ],
   "source": [
    "txt1 = \"개봉일2020-10-11종료일2020-12-11\"\n",
    "txt2 = \"개봉일2020-10-11\"\n",
    "\n",
    "import re\n",
    "regex = re.compile(\"(\\d\\d\\d\\d-\\d\\d-\\d\\d)\")\n",
    "re.findall(regex, txt1)"
   ]
  },
  {
   "cell_type": "code",
   "execution_count": 149,
   "metadata": {},
   "outputs": [
    {
     "name": "stdout",
     "output_type": "stream",
     "text": [
      "******************************\n",
      "실시간 랭킹 순위 \n",
      "******************************\n",
      "1 위 {'브랜드명': '무신사 스탠다드', '이름': '[수시 재입고]무신사 스탠다드 밸브 마스크 KF 94 20팩 [화이트]', '가격': '29,900원', '좋아요 수': '8,942'}\n",
      "2 위 {'브랜드명': '삼성전자', '이름': '삼성전자 갤럭시 버즈 플러스 블루투스이어폰 SM-R175', '가격': '179,300원', '좋아요 수': '3,555'}\n",
      "3 위 {'브랜드명': '아디다스', '이름': '[아디다스 특별전]BW 독일군 스니커즈 - 화이트 / BZ0579', '가격': '139,000원', '좋아요 수': '19,504'}\n",
      "4 위 {'브랜드명': '아디다스', '이름': '[아디다스 특별전]알파바운스 슬라이드 - 블랙:화이트 / BA8775', '가격': '59,000원', '좋아요 수': '7,307'}\n",
      "5 위 {'브랜드명': '아디다스', '이름': '[아디다스 특별전]알파바운스 슬라이드 - 옐로우:블랙 / FX1327', '가격': '59,000원', '좋아요 수': '847'}\n",
      "6 위 {'브랜드명': '아디다스', '이름': '[아디다스 특별전]영 원 - 트리플화이트 / B37616', '가격': '169,000원', '좋아요 수': '6,870'}\n",
      "7 위 {'브랜드명': '반스', '이름': '어센틱 - 화이트 / VN000EE3WHT1', '가격': '59,000원', '좋아요 수': '2,994'}\n",
      "8 위 {'브랜드명': '디스커버리 익스페디션', '이름': '버킷 디워커 V2 (WHITE)', '가격': '139,000원', '좋아요 수': '5,151'}\n",
      "9 위 {'브랜드명': '닥터마틴', '이름': '닥터마틴 제이든 블랙 15265001', '가격': '280,000원', '좋아요 수': '4,650'}\n",
      "10 위 {'브랜드명': '나이키', '이름': '브러시트 클럽 맨투맨 블랙', '가격': '89,000원', '좋아요 수': '10,237'}\n",
      "11 위 {'브랜드명': '엠엘비', '이름': '뉴욕양키스 빅볼청키A (BIG BALL CHUNKY A)', '가격': '89,000원', '좋아요 수': '13,405'}\n",
      "12 위 {'브랜드명': '우포스', '이름': '조리 블랙', '가격': '55,000원', '좋아요 수': '2,310'}\n",
      "13 위 {'브랜드명': '아디다스', '이름': '[아디다스 특별전]오즈위고 - 트리플그레이 / EG0547', '가격': '139,000원', '좋아요 수': '1,322'}\n",
      "14 위 {'브랜드명': '아디다스', '이름': '[아디다스 특별전]알파바운스 슬라이드 - 화이트:블랙 / FX1326', '가격': '59,000원', '좋아요 수': '1,219'}\n",
      "15 위 {'브랜드명': '아디다스', '이름': '[아디다스 특별전]영 원 - 블랙:카본 / G27026', '가격': '169,000원', '좋아요 수': '3,881'}\n",
      "16 위 {'브랜드명': '닥터마틴', '이름': '1461 3홀 모노 블랙 14345001', '가격': '190,000원', '좋아요 수': '2,619'}\n",
      "17 위 {'브랜드명': '컨버스', '이름': '컨버스 원스타 한별 블랙 165741C', '가격': '109,000원', '좋아요 수': '3,818'}\n",
      "18 위 {'브랜드명': '엑셀시오르', '이름': '볼트 로우 EXCELSIOR BOLT LO (ES_M6017CV_BK)', '가격': '65,000원', '좋아요 수': '11,608'}\n",
      "19 위 {'브랜드명': '컨버스', '이름': '척 70 빈티지 캔버스 에나멜레드 164944C', '가격': '95,000원', '좋아요 수': '893'}\n",
      "20 위 {'브랜드명': '디스커버리 익스페디션', '이름': '버킷 디워커 V2 에어 (WHITE)', '가격': '139,000원', '좋아요 수': '192'}\n",
      "21 위 {'브랜드명': '그레이버', '이름': '[UNISEX]엘보우 하트 스마일 니트 가디건_블랙', '가격': '149,000원', '좋아요 수': '767'}\n",
      "22 위 {'브랜드명': '삼성전자', '이름': '갤럭시워치 액티브2 알루미늄 40mm', '가격': '299,200원', '좋아요 수': '125'}\n",
      "23 위 {'브랜드명': '아디다스', '이름': '[아디다스 특별전]BW 독일군 스니커즈 W - 화이트 / BZ0579', '가격': '139,000원', '좋아요 수': '567'}\n",
      "24 위 {'브랜드명': '반스', '이름': '어센틱 - 레드 / VN000EE3RED1', '가격': '59,000원', '좋아요 수': '1,671'}\n",
      "25 위 {'브랜드명': '아식스', '이름': '조그 100 2 - 블랙:블랙 / TJG138-909', '가격': '59,000원', '좋아요 수': '4,460'}\n",
      "26 위 {'브랜드명': '닥터마틴', '이름': '1460 8홀 모노 블랙 14353001', '가격': '240,000원', '좋아요 수': '1,279'}\n",
      "27 위 {'브랜드명': '제이에스티나', '이름': 'Joelle 14K 팔찌 (JJJOBQ9AF139R47S0)', '가격': '240,000원', '좋아요 수': '1'}\n",
      "28 위 {'브랜드명': '이십삼점육오', '이름': '4/27 배송 V2 MULTI COLOR', '가격': '89,000원', '좋아요 수': '1,561'}\n",
      "29 위 {'브랜드명': '아디다스', '이름': '[아디다스 특별전]미드컷 크루 삭 3P - 화이트:블랙 / DX9091', '가격': '19,000원', '좋아요 수': '4,173'}\n",
      "30 위 {'브랜드명': '커버낫', '이름': 'LAYOUT LOGO CREWNECK BLACK', '가격': '59,000원', '좋아요 수': '7,773'}\n",
      "31 위 {'브랜드명': '엄브로', '이름': 'TOBY (토비) 블랙 (U0123CCR34)', '가격': '109,000원', '좋아요 수': '947'}\n",
      "32 위 {'브랜드명': '아디다스', '이름': '[아디다스 특별전]락업 트랙팬츠 - 블랙 / ED7542', '가격': '79,000원', '좋아요 수': '2,584'}\n",
      "33 위 {'브랜드명': '휠라', '이름': '테크 아노락 바람막이_패커블(FE2JKC5122XBLK)', '가격': '99,000원', '좋아요 수': '1,332'}\n",
      "34 위 {'브랜드명': '닥터마틴', '이름': '2976 모노 블랙 25685001', '가격': '240,000원', '좋아요 수': '166'}\n",
      "35 위 {'브랜드명': '푸마', '이름': '썬더 스펙트라 - 화이트:화이트 / 36751612', '가격': '139,000원', '좋아요 수': '4,820'}\n",
      "36 위 {'브랜드명': '엘바테게브', '이름': '미니백-차차리프', '가격': '196,000원', '좋아요 수': '75'}\n",
      "37 위 {'브랜드명': '폴로 랄프 로렌', '이름': '아이코닉 럭비 셔츠-그린', '가격': '189,000원', '좋아요 수': '110'}\n",
      "38 위 {'브랜드명': '빈치스', '이름': '19FW 엔조 미듐토트백 VD9FFBGTO044VAA', '가격': '559,000원', '좋아요 수': '13'}\n",
      "39 위 {'브랜드명': '싹', '이름': '젠틀러브 콜드그레이', '가격': '189,000원', '좋아요 수': '1'}\n",
      "40 위 {'브랜드명': '아카이브앱크', '이름': 'epke pumps(My clean bed)_OK1BX20101WHT', '가격': '189,000원', '좋아요 수': '13'}\n",
      "41 위 {'브랜드명': '엠엘비', '이름': '4/27 배송 루키 볼캡 NY(BEIGE)', '가격': '33,000원', '좋아요 수': '2,920'}\n",
      "42 위 {'브랜드명': '엠엘비', '이름': '5/26 배송 플레이볼 오리진 뮬 NY (BLACK)', '가격': '55,000원', '좋아요 수': '956'}\n",
      "43 위 {'브랜드명': '무신사 스탠다드', '이름': '라이트웨이트 크루 삭스 5팩 [화이트]', '가격': '12,900원', '좋아요 수': '5,032'}\n",
      "44 위 {'브랜드명': '루이까또즈', '이름': '여성미니지갑 SO1PM08BL', '가격': '198,000원', '좋아요 수': '33'}\n",
      "45 위 {'브랜드명': '반스', '이름': '어센틱 - 트루 화이트 / VN000EE3W001', '가격': '59,000원', '좋아요 수': '4,608'}\n",
      "46 위 {'브랜드명': '샐러드볼즈', '이름': 'SIGNATURE PURE BLOUSE [LIGHT YELLOW]', '가격': '66,000원', '좋아요 수': '236'}\n",
      "47 위 {'브랜드명': '아티스트웨어', '이름': '양말 사은품[세트상품] 제네시스 필드 우븐 자켓 바람막이 + 패치 카고 조거팬츠', '가격': '218,000원', '좋아요 수': '1,211'}\n",
      "48 위 {'브랜드명': '키르시 포켓', '이름': '스트링 백팩 JS [블랙]', '가격': '98,000원', '좋아요 수': '2,568'}\n",
      "49 위 {'브랜드명': '블러브', '이름': '소프트 블레이져-블랙', '가격': '169,000원', '좋아요 수': '16'}\n",
      "50 위 {'브랜드명': '프로스펙스', '이름': '[재입고] 오리지널 스택스 블랙캣', '가격': '69,000원', '좋아요 수': '3,172'}\n",
      "51 위 {'브랜드명': '질스튜어트 스포츠 뉴욕', '이름': '[ALPHA V] 화이트 천연가죽 남녀공용 쿠션 트레이닝 슈즈 JESO0E153WT', '가격': '159,000원', '좋아요 수': '100'}\n",
      "52 위 {'브랜드명': '엘런아크', '이름': '리사데님원피스', '가격': '183,000원', '좋아요 수': '48'}\n",
      "53 위 {'브랜드명': '앳코너', '이름': 'TUCK POINT TWO BUTTON JACKET BLACK AEJA0E004BK', '가격': '199,000원', '좋아요 수': '1'}\n",
      "54 위 {'브랜드명': '푸마', '이름': '퓨처 라이더 게임 온 - 위스퍼 화이트:페블 / 37132002', '가격': '99,000원', '좋아요 수': '149'}\n",
      "55 위 {'브랜드명': '치키타', '이름': 'C19-3 Denim Overall SK W #Black', '가격': '158,000원', '좋아요 수': '63'}\n",
      "56 위 {'브랜드명': '르니나', '이름': 'EMMA perfume dress [GR]', '가격': '184,000원', '좋아요 수': '8'}\n",
      "57 위 {'브랜드명': '아디다스', '이름': '[아디다스 특별전]아딜렛 라이트 - 네이비:화이트 / FU8299', '가격': '35,000원', '좋아요 수': '1,726'}\n",
      "58 위 {'브랜드명': '엑셀시오르', '이름': '볼트 로우 EXCELSIOR BOLT LO (ES_M6017CV_WG)', '가격': '65,000원', '좋아요 수': '5,400'}\n",
      "59 위 {'브랜드명': '컨버스', '이름': '척테일러 올스타 시즈널 컬러 코스트 166709C', '가격': '69,000원', '좋아요 수': '498'}\n",
      "60 위 {'브랜드명': '파인드카푸어', '이름': '핑고백 23 베이직 패턴 세트 - 초코브라운', '가격': '149,000원', '좋아요 수': '10'}\n",
      "61 위 {'브랜드명': '디스커버리 익스페디션', '이름': '후디드 패커블 여성 바람막이(L/PINK)', '가격': '149,000원', '좋아요 수': '13'}\n",
      "62 위 {'브랜드명': '디스커버리 익스페디션', '이름': '조거 플렉스 FLEX (LIGHT BEIGE)', '가격': '109,000원', '좋아요 수': '6,181'}\n",
      "63 위 {'브랜드명': '레이브', '이름': 'Vintage Washing Print Tee in D/Grey_VW0SE0950', '가격': '58,000원', '좋아요 수': '2,428'}\n",
      "64 위 {'브랜드명': '무신사 스탠다드', '이름': '우먼즈 코튼 린넨 오버사이즈 블레이저 [블랙]', '가격': '73,900원', '좋아요 수': '793'}\n",
      "65 위 {'브랜드명': '로맨틱무브', '이름': '뉴탐페레 첼시 부츠 R17M077 (블랙)', '가격': '198,000원', '좋아요 수': '2,844'}\n",
      "66 위 {'브랜드명': '아디다스', '이름': '[아디다스 특별전]ZX 4000 4D - 블랙 / EF9625', '가격': '399,000원', '좋아요 수': '51'}\n",
      "67 위 {'브랜드명': '도미넌트', '이름': '[박서준]피그먼트 슬로건 자수 오버핏 후드집업_먹색', '가격': '89,000원', '좋아요 수': '2,042'}\n",
      "68 위 {'브랜드명': '슬로우애시드', '이름': '[UNISEX] X 버클캡  (black)', '가격': '35,000원', '좋아요 수': '10,636'}\n",
      "69 위 {'브랜드명': '아디다스', '이름': '[아디다스 특별전]3 ST 레깅스 - 블랙 / CE2441', '가격': '39,000원', '좋아요 수': '8,131'}\n",
      "70 위 {'브랜드명': '닥터마틴', '이름': '그리폰 블랙 샌들 15695001', '가격': '190,000원', '좋아요 수': '1,956'}\n",
      "71 위 {'브랜드명': '무신사 스탠다드', '이름': '라이트웨이트 크루 삭스 5팩 [블랙]', '가격': '12,900원', '좋아요 수': '4,283'}\n",
      "72 위 {'브랜드명': '스컬프터', '이름': 'Kitten Layered Tee [WHITE]', '가격': '38,000원', '좋아요 수': '696'}\n",
      "73 위 {'브랜드명': '아디다스', '이름': '[아디다스 특별전]티쉬테니스 - 화이트 / EF5629', '가격': '109,000원', '좋아요 수': '194'}\n",
      "74 위 {'브랜드명': '아디다스', '이름': '[아디다스 특별전]ZX 토션 - 화이트:솔라레드 / EH0251', '가격': '159,000원', '좋아요 수': '160'}\n",
      "75 위 {'브랜드명': '디스커버리 익스페디션', '이름': '버킷 디워커 오리지널(BLACK)', '가격': '129,000원', '좋아요 수': '4,729'}\n",
      "76 위 {'브랜드명': '아디다스', '이름': '[아디다스 특별전]락업 오픈 트랙팬츠 - 블랙 / FU1733', '가격': '89,000원', '좋아요 수': '2,956'}\n",
      "77 위 {'브랜드명': '엄브로', '이름': 'BUMPY (범피) 코듀라 (U0123CCR12) 블랙', '가격': '129,000원', '좋아요 수': '173'}\n",
      "78 위 {'브랜드명': '엄브로', '이름': '버키 (BUCKY) 블랙 (U0123CCR13)', '가격': '129,000원', '좋아요 수': '778'}\n",
      "79 위 {'브랜드명': '디스커버리 익스페디션', '이름': '조거 맥스 MAX (BLACK)', '가격': '129,000원', '좋아요 수': '61'}\n",
      "80 위 {'브랜드명': '비비와이비', '이름': '마체백 숄더 (Moss Khaki)', '가격': '129,000원', '좋아요 수': '64'}\n",
      "81 위 {'브랜드명': '주드맥콜', '이름': '크리스틴 클래식 자켓_블랙', '가격': '160,000원', '좋아요 수': '150'}\n",
      "82 위 {'브랜드명': '아디다스', '이름': '[아디다스 특별전]W PG 팬츠 - 그레이 / FK2831', '가격': '59,000원', '좋아요 수': '3,586'}\n",
      "83 위 {'브랜드명': '5252 바이 오아이오아이', '이름': '2019 SIGNATURE HOODIE_black', '가격': '79,000원', '좋아요 수': '4,275'}\n",
      "84 위 {'브랜드명': '시눈', '이름': 'Belted Knit Dress (sand)', '가격': '127,000원', '좋아요 수': '42'}\n",
      "85 위 {'브랜드명': '모아', '이름': '가론 코튼 스커트 셋업 (BEIGE)', '가격': '158,000원', '좋아요 수': '46'}\n",
      "86 위 {'브랜드명': '일리앤', '이름': '14K 시그니처앤 팔찌_JAABV03F2', '가격': '125,000원', '좋아요 수': '4'}\n",
      "87 위 {'브랜드명': '아디다스', '이름': '[아디다스 특별전]락업 티 드레스 - 블랙 / FU1732', '가격': '69,000원', '좋아요 수': '527'}\n",
      "88 위 {'브랜드명': '마조팩토리', '이름': '시에나 플라워 드레스 [블루 그린]', '가격': '138,000원', '좋아요 수': '52'}\n",
      "89 위 {'브랜드명': '내셔널지오그래픽', '이름': '트리핀 라이노(TRIPPIN RHINO) IVORY', '가격': '119,000원', '좋아요 수': '4,662'}\n",
      "90 위 {'브랜드명': '르마스크', '이름': '콜미 크로커 숄더 앤 크로스백 B No 46 피칸베이지', '가격': '190,000원', '좋아요 수': '12'}\n"
     ]
    }
   ],
   "source": [
    "import json\n",
    "import re\n",
    "import requests\n",
    "import random\n",
    "from bs4 import BeautifulSoup\n",
    "from datetime import date, timedelta\n",
    "\n",
    "import requests\n",
    "from flask import Flask, render_template, request\n",
    "\n",
    "res = requests.get(\"https://wusinsa.musinsa.com/app/contents/bestranking?u_cat_cd=\")\n",
    "soup= BeautifulSoup(res.content, 'html.parser')\n",
    "product_rank=[]\n",
    "\n",
    "for tag in soup.select(\".article_info\"):\n",
    "    brand = tag.select(\".item_title > a\")[0].get_text()\n",
    "    name = tag.select(\".list_info > a\")[0].get_text().strip()\n",
    "    price = tag.select(\".price\")[0].get_text()\n",
    "    like_num= tag.select(\".txt_cnt_like\")[0].get_text().strip()\n",
    "    regex = re.compile(\"(\\d+,\\d+원)\")\n",
    "    real_price = re.findall(regex, price)[0]\n",
    "    product_rank.append({'브랜드명': brand,\n",
    "             '이름': name,\n",
    "             '가격': real_price,\n",
    "             '좋아요 수': like_num})\n",
    "    \n",
    "    #print(price.replace('\\t', '').strip())\n",
    "print(\"*\" * 30)   \n",
    "print(\"실시간 랭킹 순위 \")\n",
    "print(\"*\" * 30)   \n",
    "\n",
    "for i, rank in enumerate(product_rank):\n",
    "    print(i+1,\"위\", rank)\n"
   ]
  },
  {
   "cell_type": "code",
   "execution_count": 101,
   "metadata": {},
   "outputs": [
    {
     "data": {
      "text/plain": [
       "['2020-10-11']"
      ]
     },
     "execution_count": 101,
     "metadata": {},
     "output_type": "execute_result"
    }
   ],
   "source": [
    "txt1 = \"개봉일2020-10-11종료일2020-12-11\"\n",
    "txt2 = \"개봉일2020-10-11\"\n",
    "\n",
    "import re\n",
    "regex = re.compile(\"(\\d\\d\\d\\d-\\d\\d-\\d\\d)\")\n",
    "re.findall(regex, txt2)"
   ]
  },
  {
   "cell_type": "code",
   "execution_count": 171,
   "metadata": {},
   "outputs": [
    {
     "name": "stdout",
     "output_type": "stream",
     "text": [
      "엠포리오 아르마니\n"
     ]
    }
   ],
   "source": [
    "res = requests.get(\"https://wusinsa.musinsa.com/app/contents/bestranking?u_cat_cd=006\")\n",
    "soup= BeautifulSoup(res.content, 'html.parser')\n",
    "product_rank=[]\n",
    "\n",
    "\n",
    "for tag in soup.select(\".article_info\"):\n",
    "#     print(tag.prettify())\n",
    "    brand = tag.select(\".item_title > a\")[0].get_text()\n",
    "    name = tag.select(\".list_info > a\")[0].get_text().strip()\n",
    "    price = tag.select(\".price\")[0].get_text()\n",
    "    if len(tag.select(\".txt_cnt_like\")) > 0:\n",
    "        like_num= tag.select(\".txt_cnt_like\")[0].get_text().strip()\n",
    "    else:\n",
    "        like_num=0\n",
    "    regex = re.compile(\"(\\d+,\\d+원)\")\n",
    "    real_price = re.findall(regex, price)[0]\n",
    "    product_rank.append({'브랜드명': brand,\n",
    "             '이름': name,\n",
    "             '가격': real_price,\n",
    "             '좋아요 수': like_num})\n",
    "    \n",
    "    #print(price.replace('\\t', '').strip())\n",
    "# print(\"*\" * 30)   \n",
    "# print(\"실시간 랭킹 순위 \")\n",
    "# print(\"*\" * 30)   \n",
    "\n",
    "# for i, rank in enumerate(product_rank):\n",
    "#     print(i+1,\"위\", rank)\n",
    "print(brand)"
   ]
  },
  {
   "cell_type": "code",
   "execution_count": 170,
   "metadata": {},
   "outputs": [
    {
     "name": "stdout",
     "output_type": "stream",
     "text": [
      "[]\n"
     ]
    }
   ],
   "source": [
    "res = requests.get(\"https://wusinsa.musinsa.com/app/contents/bestranking?u_cat_cd=006\")\n",
    "soup= BeautifulSoup(res.content, 'html.parser')\n",
    "rank_num=[]\n",
    "\n",
    "for tag in soup.select(\"list-box.box\"):\n",
    "    rank_num = tag.select(\".n-label.label-default.txt_num_rank\")[0].get_text()\n",
    "print(rank_num)"
   ]
  },
  {
   "cell_type": "code",
   "execution_count": 174,
   "metadata": {},
   "outputs": [],
   "source": [
    "from selenium import webdriver\n",
    "\n",
    "driver = webdriver.Chrome('day8/chromedriver')\n",
    "\n",
    "url = \"https://www.google.com/search?q=%EA%B3%A0%EC%96%91%EC%9D%B4&rlz=1C1CHBD_koKR896KR896&sxsrf=ALeKk01wUSMOcgRFHuQ29VhikOPnKpqSOA:1587609374835&source=lnms&tbm=isch&sa=X&ved=2ahUKEwjr0tDmwf3oAhW-yosBHQcNCGgQ_AUoAXoECBQQAw&biw=1383&bih=690\"\n",
    "driver.get(url)\n",
    "\n",
    "driver.find_element_by_css_selector('.JSAgYe').clear()\n",
    "driver.find_element_by_css_selector('.JSAgYe').send_keys(\"강아지\")\n",
    "driver.find_element_by_css_selector('.JSAgYe').click()\n",
    "\n",
    "\n",
    "\n",
    "# driver.find_element_by_xpath('//*[@id=\"tsf\"]/div[2]/div[1]/div[2]/div?/div[2]/input').send_keys(\"강아지\")\n",
    "# driver.find_element_by_xpath(''//*[@id=\"tsf\"]/div[2]/div[1]/div[2]/button/div/span').click()\n",
    "# soup=BeautifulSoup(driver.page_source, 'html.parser')\n",
    "# soup.select(\"img.rg_i\")"
   ]
  },
  {
   "cell_type": "code",
   "execution_count": null,
   "metadata": {},
   "outputs": [],
   "source": []
  }
 ],
 "metadata": {
  "kernelspec": {
   "display_name": "Python 3",
   "language": "python",
   "name": "python3"
  },
  "language_info": {
   "codemirror_mode": {
    "name": "ipython",
    "version": 3
   },
   "file_extension": ".py",
   "mimetype": "text/x-python",
   "name": "python",
   "nbconvert_exporter": "python",
   "pygments_lexer": "ipython3",
   "version": "3.7.6"
  }
 },
 "nbformat": 4,
 "nbformat_minor": 4
}
